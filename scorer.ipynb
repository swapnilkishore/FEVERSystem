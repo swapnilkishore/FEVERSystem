{
 "cells": [
  {
   "cell_type": "code",
   "execution_count": 3,
   "metadata": {},
   "outputs": [],
   "source": [
    "import wikipedia as wki\n",
    "from textblob import TextBlob as txb\n",
    "import pandas as pd\n",
    "import json\n",
    "import re\n",
    "import nltk\n",
    "from nltk.corpus import stopwords\n",
    "from nltk.tokenize import word_tokenize, sent_tokenize\n",
    "import math\n",
    "import statistics\n",
    "from operator import itemgetter\n",
    "import random\n",
    "from fever.scorer import fever_score\n",
    "import ast"
   ]
  },
  {
   "cell_type": "code",
   "execution_count": 4,
   "metadata": {},
   "outputs": [
    {
     "data": {
      "text/plain": [
       "[{'label': 'NOT ENOUGH INFO',\n",
       "  'predicted_label': 'SUPPORTS',\n",
       "  'predicted_evidence': [['National Football League', 7],\n",
       "   ['National Football League Draft', 19]],\n",
       "  'evidence': [[[108548, None, None, None]]]},\n",
       " {'label': 'NOT ENOUGH INFO',\n",
       "  'predicted_label': 'REFUTES',\n",
       "  'predicted_evidence': [['Tilda Swinton', 8], ['Snowpiercer', 11]],\n",
       "  'evidence': [[[227768, None, None, None]]]}]"
      ]
     },
     "execution_count": 4,
     "metadata": {},
     "output_type": "execute_result"
    }
   ],
   "source": [
    "predictions = []\n",
    "with open('predictions_sim_phrases.jsonl', 'r') as f:\n",
    "    for line in f:\n",
    "        predictions.append(json.loads(line))\n",
    "predictions[:2]"
   ]
  },
  {
   "cell_type": "code",
   "execution_count": 10,
   "metadata": {},
   "outputs": [
    {
     "data": {
      "text/plain": [
       "[{'id': 89296,\n",
       "  'label': 'REFUTES',\n",
       "  'evidence': [[[None, None, 'Henry Lloyd-Hughes', 0],\n",
       "    [None, None, 'Alex Wolff', 0],\n",
       "    [None, None, 'List of Tom Hanks performances', 0]]]},\n",
       " {'id': 78554,\n",
       "  'label': 'REFUTES',\n",
       "  'evidence': [[[None, None, 'John Ritter', 2],\n",
       "    [None, None, 'Tex Ritter', 0],\n",
       "    [None, None, 'Georg von Trapp', 0]]]}]"
      ]
     },
     "execution_count": 10,
     "metadata": {},
     "output_type": "execute_result"
    }
   ],
   "source": [
    "actual_vals = []\n",
    "with open('actual.jsonl', 'r') as f:\n",
    "    for line in f:\n",
    "        actual_vals.append((line))\n",
    "x = ast.literal_eval(actual_vals[0])\n",
    "actual = []\n",
    "for val in actual_vals:\n",
    "    x = ast.literal_eval(val)\n",
    "    actual.append(x)\n",
    "actual[:2]"
   ]
  },
  {
   "cell_type": "code",
   "execution_count": 23,
   "metadata": {},
   "outputs": [],
   "source": [
    "strict_score, label_accuracy, precision, recall, f1 = fever_score(predictions)"
   ]
  },
  {
   "cell_type": "code",
   "execution_count": 24,
   "metadata": {},
   "outputs": [
    {
     "name": "stdout",
     "output_type": "stream",
     "text": [
      "0.03\n",
      "0.44\n",
      "0.02027027027027027\n",
      "0.013513513513513514\n",
      "0.016216216216216217\n"
     ]
    }
   ],
   "source": [
    "print(strict_score)\n",
    "print(label_accuracy)\n",
    "print(precision)\n",
    "print(recall)\n",
    "print(f1)"
   ]
  }
 ],
 "metadata": {
  "kernelspec": {
   "display_name": "Python 3",
   "language": "python",
   "name": "python3"
  },
  "language_info": {
   "codemirror_mode": {
    "name": "ipython",
    "version": 3
   },
   "file_extension": ".py",
   "mimetype": "text/x-python",
   "name": "python",
   "nbconvert_exporter": "python",
   "pygments_lexer": "ipython3",
   "version": "3.6.5"
  }
 },
 "nbformat": 4,
 "nbformat_minor": 2
}
